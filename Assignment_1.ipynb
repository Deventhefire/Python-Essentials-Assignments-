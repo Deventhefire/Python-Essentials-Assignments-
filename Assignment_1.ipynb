{
  "nbformat": 4,
  "nbformat_minor": 0,
  "metadata": {
    "colab": {
      "name": "Assignment 1.ipynb",
      "provenance": [],
      "collapsed_sections": [],
      "authorship_tag": "ABX9TyOMgIQqE5cmBOM4ZarpTrRJ",
      "include_colab_link": true
    },
    "kernelspec": {
      "name": "python3",
      "display_name": "Python 3"
    },
    "language_info": {
      "name": "python"
    }
  },
  "cells": [
    {
      "cell_type": "markdown",
      "metadata": {
        "id": "view-in-github",
        "colab_type": "text"
      },
      "source": [
        "<a href=\"https://colab.research.google.com/github/Deventhefire/Python-Essentials-Assignments-/blob/main/Assignment_1.ipynb\" target=\"_parent\"><img src=\"https://colab.research.google.com/assets/colab-badge.svg\" alt=\"Open In Colab\"/></a>"
      ]
    },
    {
      "cell_type": "code",
      "metadata": {
        "id": "4xMuvEVO-9Eg"
      },
      "source": [
        ""
      ],
      "execution_count": null,
      "outputs": []
    },
    {
      "cell_type": "markdown",
      "metadata": {
        "id": "MKSPrzgO_VYn"
      },
      "source": [
        "Build your Multiplication Divide & subtract calculator."
      ]
    },
    {
      "cell_type": "code",
      "metadata": {
        "colab": {
          "base_uri": "https://localhost:8080/"
        },
        "id": "0kP1pqkH_iwr",
        "outputId": "766c4c51-8185-44cc-c737-1c93a89e6c98"
      },
      "source": [
        "a = int(input(\"Enter first no.\"))\n",
        "b = int(input(\"Enter second no.\"))\n",
        "Div = a / b\n",
        "Mult = a * b\n",
        "sub = a - b\n",
        "print (\"division =\", Div)\n",
        "print (\"multiplication =\", Mult)\n",
        "print (\"subtraction =\", sub)\n"
      ],
      "execution_count": 2,
      "outputs": [
        {
          "output_type": "stream",
          "text": [
            "Enter first no.10\n",
            "Enter second no.2\n",
            "division = 5.0\n",
            "multiplication = 20\n",
            "subtraction = 8\n"
          ],
          "name": "stdout"
        }
      ]
    },
    {
      "cell_type": "code",
      "metadata": {
        "id": "l7OlJ2MaBBAv"
      },
      "source": [
        ""
      ],
      "execution_count": null,
      "outputs": []
    }
  ]
}