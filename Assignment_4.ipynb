{
  "nbformat": 4,
  "nbformat_minor": 0,
  "metadata": {
    "colab": {
      "name": "Assignment 4",
      "provenance": [],
      "collapsed_sections": [],
      "authorship_tag": "ABX9TyPbWU/5ueNNzby1qo7Gschb",
      "include_colab_link": true
    },
    "kernelspec": {
      "name": "python3",
      "display_name": "Python 3"
    },
    "language_info": {
      "name": "python"
    }
  },
  "cells": [
    {
      "cell_type": "markdown",
      "metadata": {
        "id": "view-in-github",
        "colab_type": "text"
      },
      "source": [
        "<a href=\"https://colab.research.google.com/github/Deventhefire/Python-Essentials-Assignments-/blob/main/Assignment_4.ipynb\" target=\"_parent\"><img src=\"https://colab.research.google.com/assets/colab-badge.svg\" alt=\"Open In Colab\"/></a>"
      ]
    },
    {
      "cell_type": "code",
      "metadata": {
        "colab": {
          "base_uri": "https://localhost:8080/"
        },
        "id": "W7-QHb4L6wP9",
        "outputId": "865547f5-9788-4cb9-acb3-08fa6343b858"
      },
      "source": [
        "# You all are pilots, you have to land a plane, the altitude required for landing a plane is 1000ft, if it is less than that tell pilot to land the plane, or it is more than that but less than 5000ft ask the pilot to “come down to 1000ft”, else if it is more than 5000ft ask the pilot to “go around and try later”\n",
        "\n",
        "altitude = int(input(\"Enter your current altitude \"))\n",
        "if altitude <= 1000 :\n",
        "  print(\" Safe to land \")\n",
        "elif altitude > 1000 and altitude <= 5000:\n",
        "  print(\" Bring down to 1000 \")\n",
        "else:\n",
        "  print(\" Go around and try later \")"
      ],
      "execution_count": 9,
      "outputs": [
        {
          "output_type": "stream",
          "text": [
            "Enter your current altitude 500\n",
            " Safe to land \n"
          ],
          "name": "stdout"
        }
      ]
    }
  ]
}