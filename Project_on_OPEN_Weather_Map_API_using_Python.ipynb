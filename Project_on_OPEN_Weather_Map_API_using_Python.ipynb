{
  "nbformat": 4,
  "nbformat_minor": 0,
  "metadata": {
    "colab": {
      "name": "Project on OPEN Weather Map API using Python.ipynb",
      "provenance": [],
      "collapsed_sections": [],
      "authorship_tag": "ABX9TyP1h0dunbSI9pPh5+EhkOZD",
      "include_colab_link": true
    },
    "kernelspec": {
      "name": "python3",
      "display_name": "Python 3"
    },
    "language_info": {
      "name": "python"
    }
  },
  "cells": [
    {
      "cell_type": "markdown",
      "metadata": {
        "id": "view-in-github",
        "colab_type": "text"
      },
      "source": [
        "<a href=\"https://colab.research.google.com/github/Deventhefire/Python-Essentials-Assignments-/blob/main/Project_on_OPEN_Weather_Map_API_using_Python.ipynb\" target=\"_parent\"><img src=\"https://colab.research.google.com/assets/colab-badge.svg\" alt=\"Open In Colab\"/></a>"
      ]
    },
    {
      "cell_type": "code",
      "metadata": {
        "colab": {
          "base_uri": "https://localhost:8080/"
        },
        "id": "pvz-3fECp0g6",
        "outputId": "468fe71a-684b-42c3-dd4e-0c4d4c88996a"
      },
      "source": [
        "# Python For Beginners Project...\n",
        "# Open Weather api app.../\n",
        "\n",
        "import requests\n",
        "\n",
        "# paste your api key here\n",
        "api_key = \"0dbc8d54be363426a17d9b9ceb74e582\"\n",
        "\n",
        "# getting city name from user\n",
        "city = input(\"Enter city name:- \")\n",
        "\n",
        "data = requests.get(\n",
        "    f\"https://api.openweathermap.org/data/2.5/weather?q={city}&units=metric&APPID={api_key}\"\n",
        ")\n",
        "\n",
        "# uncomment the following line and run it so you can get the data in json format\n",
        "# print(data.json())\n",
        "# getting the data\n",
        "\n",
        "print(f\"Location:- {data.json().get('name')}, {data.json().get('sys').get('country')}\")\n",
        "\n",
        "print(f\"Temperature:- {data.json().get('main')['temp']}°C\")\n",
        "\n",
        "print(f\"Present Weather:- {data.json().get('weather')[0].get('main')}\")\n",
        "\n",
        "print(\n",
        "    f\"Minimum Temperature:- {data.json().get('main')['temp_min']}°C\"\n",
        ")\n",
        "\n",
        "print(\n",
        "    f\"Maximum Temperature:- {data.json().get('main')['temp_max']}°C\"\n",
        ")\n",
        "\n",
        "print(f\"Humidity:- {data.json().get('main')['humidity']}%\")\n",
        "\n",
        "print(f\"Wind speed:- {data.json().get('wind')['speed']} km/h\")"
      ],
      "execution_count": 8,
      "outputs": [
        {
          "output_type": "stream",
          "text": [
            "Enter city name:- chennai\n",
            "Location:- Chennai, IN\n",
            "Temperature:- 33.99°C\n",
            "Present Weather:- Clouds\n",
            "Minimum Temperature:- 33.99°C\n",
            "Maximum Temperature:- 33.99°C\n",
            "Humidity:- 62%\n",
            "Wind speed:- 4.63 km/h\n"
          ],
          "name": "stdout"
        }
      ]
    }
  ]
}