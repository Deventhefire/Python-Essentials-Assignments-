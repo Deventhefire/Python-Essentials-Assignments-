{
  "nbformat": 4,
  "nbformat_minor": 0,
  "metadata": {
    "colab": {
      "name": "Assignment 5_1.ipynb",
      "provenance": [],
      "collapsed_sections": [],
      "authorship_tag": "ABX9TyN8yDJlU6I5Io5bxJrZmF1k",
      "include_colab_link": true
    },
    "kernelspec": {
      "name": "python3",
      "display_name": "Python 3"
    },
    "language_info": {
      "name": "python"
    }
  },
  "cells": [
    {
      "cell_type": "markdown",
      "metadata": {
        "id": "view-in-github",
        "colab_type": "text"
      },
      "source": [
        "<a href=\"https://colab.research.google.com/github/Deventhefire/Python-Essentials-Assignments-/blob/main/Assignment_5_1.ipynb\" target=\"_parent\"><img src=\"https://colab.research.google.com/assets/colab-badge.svg\" alt=\"Open In Colab\"/></a>"
      ]
    },
    {
      "cell_type": "code",
      "metadata": {
        "colab": {
          "base_uri": "https://localhost:8080/"
        },
        "id": "Ko7hgJa9xBEo",
        "outputId": "2af7e4cc-eb65-47dc-b4b4-5841e86afcef"
      },
      "source": [
        "# function for finding number is prime or not \n",
        "\n",
        "num=int(input(\"Enter number to check prime no. \"))\n",
        "\n",
        "if num > 1: \n",
        "  for i in range(2,num):\n",
        "    if (num % i) == 0:\n",
        "      print(num, \"is not prime number\")\n",
        "      break\n",
        "  else:\n",
        "        print(num, \"is a prime number\")\n",
        "else:\n",
        "          print(num, \"is not prime number\")"
      ],
      "execution_count": 62,
      "outputs": [
        {
          "output_type": "stream",
          "text": [
            "Enter number to check prime no. 6533\n",
            "6533 is not prime number\n"
          ],
          "name": "stdout"
        }
      ]
    }
  ]
}