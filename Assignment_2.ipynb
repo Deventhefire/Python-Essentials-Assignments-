{
  "nbformat": 4,
  "nbformat_minor": 0,
  "metadata": {
    "colab": {
      "name": "Assignment 2.ipynb",
      "provenance": [],
      "authorship_tag": "ABX9TyNvKpPuTzVSV8dsjI9a8tHm",
      "include_colab_link": true
    },
    "kernelspec": {
      "name": "python3",
      "display_name": "Python 3"
    },
    "language_info": {
      "name": "python"
    }
  },
  "cells": [
    {
      "cell_type": "markdown",
      "metadata": {
        "id": "view-in-github",
        "colab_type": "text"
      },
      "source": [
        "<a href=\"https://colab.research.google.com/github/Deventhefire/Python-Essentials-Assignments-/blob/main/Assignment_2.ipynb\" target=\"_parent\"><img src=\"https://colab.research.google.com/assets/colab-badge.svg\" alt=\"Open In Colab\"/></a>"
      ]
    },
    {
      "cell_type": "code",
      "metadata": {
        "colab": {
          "base_uri": "https://localhost:8080/"
        },
        "id": "LYcQdtJ89ucr",
        "outputId": "36b350ac-19b3-4e8a-a4e9-2165500ce6b4"
      },
      "source": [
        "maxparticipants = int(input(\"Enter total no of Tickets available\"))\n",
        "import random\n",
        "n=[]\n",
        "for i in range(maxparticipants):\n",
        "    n=input(\"Enter name of participants:\")\n",
        "a=(random.randint(0,maxparticipants-1))\n",
        "print('The winner is: ',n)\n"
      ],
      "execution_count": 14,
      "outputs": [
        {
          "output_type": "stream",
          "text": [
            "Enter total no of Tickets available6\n",
            "Enter name of participants:sai\n",
            "Enter name of participants:ram\n",
            "Enter name of participants:dev\n",
            "Enter name of participants:indra\n",
            "Enter name of participants:god\n",
            "Enter name of participants:lord\n",
            "The winner is:  lord\n"
          ],
          "name": "stdout"
        }
      ]
    }
  ]
}