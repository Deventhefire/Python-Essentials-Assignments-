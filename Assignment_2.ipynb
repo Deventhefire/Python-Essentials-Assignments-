{
  "nbformat": 4,
  "nbformat_minor": 0,
  "metadata": {
    "colab": {
      "name": "Assignment 2.ipynb",
      "provenance": [],
      "collapsed_sections": [],
      "authorship_tag": "ABX9TyPOBjvS6W7JVWaKXOGcAwY9",
      "include_colab_link": true
    },
    "kernelspec": {
      "name": "python3",
      "display_name": "Python 3"
    },
    "language_info": {
      "name": "python"
    }
  },
  "cells": [
    {
      "cell_type": "markdown",
      "metadata": {
        "id": "view-in-github",
        "colab_type": "text"
      },
      "source": [
        "<a href=\"https://colab.research.google.com/github/Deventhefire/Python-Essentials-Assignments-/blob/main/Assignment_2.ipynb\" target=\"_parent\"><img src=\"https://colab.research.google.com/assets/colab-badge.svg\" alt=\"Open In Colab\"/></a>"
      ]
    },
    {
      "cell_type": "code",
      "metadata": {
        "colab": {
          "base_uri": "https://localhost:8080/"
        },
        "id": "LYcQdtJ89ucr",
        "outputId": "5fdb9e8d-5964-4985-dd0e-301064f74167"
      },
      "source": [
        "import random\n",
        "maxparticipants = int(input(\"Enter total no of Tickets available\"))\n",
        "n=[]\n",
        "for i in range(maxparticipants):\n",
        "    bn=input(\"Enter name of participants:\")\n",
        "    n.append(bn)\n",
        "print(\"All participants are \",n)\n",
        "a= random.randint(0,maxparticipants-1)\n",
        "print('The winner is: ',n[a])\n"
      ],
      "execution_count": 10,
      "outputs": [
        {
          "output_type": "stream",
          "text": [
            "Enter total no of Tickets available5\n",
            "Enter name of participants:a\n",
            "Enter name of participants:d\n",
            "Enter name of participants:s\n",
            "Enter name of participants:e\n",
            "Enter name of participants:g\n",
            "All participants are  ['a', 'd', 's', 'e', 'g']\n",
            "The winner is:  e\n"
          ],
          "name": "stdout"
        }
      ]
    }
  ]
}